{
 "cells": [
  {
   "cell_type": "markdown",
   "id": "44fbf280",
   "metadata": {},
   "source": [
    "# Scraping Data"
   ]
  },
  {
   "cell_type": "code",
   "execution_count": 1,
   "id": "eba22fa4",
   "metadata": {},
   "outputs": [],
   "source": [
    "from bs4 import BeautifulSoup\n",
    "import requests\n",
    "import pandas as pd"
   ]
  },
  {
   "cell_type": "code",
   "execution_count": 2,
   "id": "84e06114",
   "metadata": {},
   "outputs": [],
   "source": [
    "# here we select which website we want to scrape data from\n",
    "url = 'https://en.wikipedia.org/wiki/List_of_largest_companies_in_the_United_Kingdom'\n",
    "\n",
    "page = requests.get(url)\n",
    "\n",
    "soup = BeautifulSoup(page.text, 'html')"
   ]
  },
  {
   "cell_type": "code",
   "execution_count": 3,
   "id": "ce2c2569",
   "metadata": {},
   "outputs": [],
   "source": [
    "#print(soup)"
   ]
  },
  {
   "cell_type": "code",
   "execution_count": 4,
   "id": "558ba290",
   "metadata": {},
   "outputs": [],
   "source": [
    "# After inspecting element on the wikipedia page, i found this class which contains the table we\n",
    "# are working with\n",
    "table = soup.find('table', class_=\"wikitable sortable\")\n",
    "#print(table)"
   ]
  },
  {
   "cell_type": "code",
   "execution_count": 5,
   "id": "9786938e",
   "metadata": {},
   "outputs": [],
   "source": [
    "# we have found, by looking above what each title starts with, which is a 'th'\n",
    "titles = table.find_all('th')"
   ]
  },
  {
   "cell_type": "code",
   "execution_count": 6,
   "id": "9345dc5b",
   "metadata": {},
   "outputs": [],
   "source": [
    "# list comprehension, which will pull out the titles, .strip() removed all \\n from the text and cleaned it a bit\n",
    "table_titles = [title.text.strip() for title in titles]"
   ]
  },
  {
   "cell_type": "code",
   "execution_count": 7,
   "id": "e595cc84",
   "metadata": {},
   "outputs": [
    {
     "name": "stdout",
     "output_type": "stream",
     "text": [
      "['Rank', 'Fortune 500rank', 'Name', 'Industry', 'Revenue(USD millions)', 'Profits(USD millions)', 'Assets(USD millions)', 'Employees', 'Headquarters']\n"
     ]
    }
   ],
   "source": [
    "print(table_titles)"
   ]
  },
  {
   "cell_type": "code",
   "execution_count": 8,
   "id": "06a4b646",
   "metadata": {},
   "outputs": [
    {
     "data": {
      "text/html": [
       "<div>\n",
       "<style scoped>\n",
       "    .dataframe tbody tr th:only-of-type {\n",
       "        vertical-align: middle;\n",
       "    }\n",
       "\n",
       "    .dataframe tbody tr th {\n",
       "        vertical-align: top;\n",
       "    }\n",
       "\n",
       "    .dataframe thead th {\n",
       "        text-align: right;\n",
       "    }\n",
       "</style>\n",
       "<table border=\"1\" class=\"dataframe\">\n",
       "  <thead>\n",
       "    <tr style=\"text-align: right;\">\n",
       "      <th></th>\n",
       "      <th>Rank</th>\n",
       "      <th>Fortune 500rank</th>\n",
       "      <th>Name</th>\n",
       "      <th>Industry</th>\n",
       "      <th>Revenue(USD millions)</th>\n",
       "      <th>Profits(USD millions)</th>\n",
       "      <th>Assets(USD millions)</th>\n",
       "      <th>Employees</th>\n",
       "      <th>Headquarters</th>\n",
       "    </tr>\n",
       "  </thead>\n",
       "  <tbody>\n",
       "  </tbody>\n",
       "</table>\n",
       "</div>"
      ],
      "text/plain": [
       "Empty DataFrame\n",
       "Columns: [Rank, Fortune 500rank, Name, Industry, Revenue(USD millions), Profits(USD millions), Assets(USD millions), Employees, Headquarters]\n",
       "Index: []"
      ]
     },
     "execution_count": 8,
     "metadata": {},
     "output_type": "execute_result"
    }
   ],
   "source": [
    "# Here we create our dataframe with the titles we have just pulled out from wikipedia\n",
    "df = pd.DataFrame(columns = table_titles)\n",
    "df"
   ]
  },
  {
   "cell_type": "code",
   "execution_count": 9,
   "id": "b6ccb554",
   "metadata": {},
   "outputs": [],
   "source": [
    "# after some digging, i found that all the data we want to use is within the <tr> branch\n",
    "# in the html code\n",
    "column_data = table.find_all('tr')"
   ]
  },
  {
   "cell_type": "code",
   "execution_count": 10,
   "id": "eff8e2d1",
   "metadata": {},
   "outputs": [
    {
     "data": {
      "text/html": [
       "<div>\n",
       "<style scoped>\n",
       "    .dataframe tbody tr th:only-of-type {\n",
       "        vertical-align: middle;\n",
       "    }\n",
       "\n",
       "    .dataframe tbody tr th {\n",
       "        vertical-align: top;\n",
       "    }\n",
       "\n",
       "    .dataframe thead th {\n",
       "        text-align: right;\n",
       "    }\n",
       "</style>\n",
       "<table border=\"1\" class=\"dataframe\">\n",
       "  <thead>\n",
       "    <tr style=\"text-align: right;\">\n",
       "      <th></th>\n",
       "      <th>Rank</th>\n",
       "      <th>Fortune 500rank</th>\n",
       "      <th>Name</th>\n",
       "      <th>Industry</th>\n",
       "      <th>Revenue(USD millions)</th>\n",
       "      <th>Profits(USD millions)</th>\n",
       "      <th>Assets(USD millions)</th>\n",
       "      <th>Employees</th>\n",
       "      <th>Headquarters</th>\n",
       "    </tr>\n",
       "  </thead>\n",
       "  <tbody>\n",
       "    <tr>\n",
       "      <th>0</th>\n",
       "      <td>1</td>\n",
       "      <td>15</td>\n",
       "      <td>Shell plc</td>\n",
       "      <td>Oil and Gas</td>\n",
       "      <td>272,657</td>\n",
       "      <td>20,101</td>\n",
       "      <td>404,379</td>\n",
       "      <td>82,000</td>\n",
       "      <td>London</td>\n",
       "    </tr>\n",
       "    <tr>\n",
       "      <th>1</th>\n",
       "      <td>2</td>\n",
       "      <td>35</td>\n",
       "      <td>BP</td>\n",
       "      <td>Oil and Gas</td>\n",
       "      <td>164,195</td>\n",
       "      <td>7,565</td>\n",
       "      <td>287,272</td>\n",
       "      <td>65,000</td>\n",
       "      <td>London</td>\n",
       "    </tr>\n",
       "    <tr>\n",
       "      <th>2</th>\n",
       "      <td>3</td>\n",
       "      <td>126</td>\n",
       "      <td>Tesco</td>\n",
       "      <td>Retail</td>\n",
       "      <td>84,192</td>\n",
       "      <td>2,031</td>\n",
       "      <td>66,219</td>\n",
       "      <td>231,223</td>\n",
       "      <td>Welwyn Garden City</td>\n",
       "    </tr>\n",
       "    <tr>\n",
       "      <th>3</th>\n",
       "      <td>4</td>\n",
       "      <td>149</td>\n",
       "      <td>HSBC</td>\n",
       "      <td>Banking</td>\n",
       "      <td>77,330</td>\n",
       "      <td>13,917</td>\n",
       "      <td>2,957,939</td>\n",
       "      <td>219,697</td>\n",
       "      <td>London</td>\n",
       "    </tr>\n",
       "    <tr>\n",
       "      <th>4</th>\n",
       "      <td>5</td>\n",
       "      <td>198</td>\n",
       "      <td>Aviva</td>\n",
       "      <td>Insurance</td>\n",
       "      <td>64,240</td>\n",
       "      <td>2,703</td>\n",
       "      <td>485,481</td>\n",
       "      <td>22,062</td>\n",
       "      <td>London</td>\n",
       "    </tr>\n",
       "    <tr>\n",
       "      <th>5</th>\n",
       "      <td>6</td>\n",
       "      <td>201</td>\n",
       "      <td>Rio Tinto</td>\n",
       "      <td>Mining</td>\n",
       "      <td>63,495</td>\n",
       "      <td>21,094</td>\n",
       "      <td>102,896</td>\n",
       "      <td>49,345</td>\n",
       "      <td>London</td>\n",
       "    </tr>\n",
       "    <tr>\n",
       "      <th>6</th>\n",
       "      <td>7</td>\n",
       "      <td>203</td>\n",
       "      <td>Legal &amp; General</td>\n",
       "      <td>Insurance</td>\n",
       "      <td>62,504</td>\n",
       "      <td>2,819</td>\n",
       "      <td>789,066</td>\n",
       "      <td>10,743</td>\n",
       "      <td>London</td>\n",
       "    </tr>\n",
       "    <tr>\n",
       "      <th>7</th>\n",
       "      <td>8</td>\n",
       "      <td>205</td>\n",
       "      <td>Unilever</td>\n",
       "      <td>Consumer goods</td>\n",
       "      <td>62,006</td>\n",
       "      <td>7,151</td>\n",
       "      <td>85,383</td>\n",
       "      <td>148,044</td>\n",
       "      <td>London</td>\n",
       "    </tr>\n",
       "    <tr>\n",
       "      <th>8</th>\n",
       "      <td>9</td>\n",
       "      <td>222</td>\n",
       "      <td>Lloyds Banking Group</td>\n",
       "      <td>Banking</td>\n",
       "      <td>58,476</td>\n",
       "      <td>7,954</td>\n",
       "      <td>1,200,620</td>\n",
       "      <td>57,955</td>\n",
       "      <td>London</td>\n",
       "    </tr>\n",
       "    <tr>\n",
       "      <th>9</th>\n",
       "      <td>10</td>\n",
       "      <td>247</td>\n",
       "      <td>Vodafone</td>\n",
       "      <td>Telecommunication</td>\n",
       "      <td>52,931</td>\n",
       "      <td>2,424</td>\n",
       "      <td>170,749</td>\n",
       "      <td>96,941</td>\n",
       "      <td>Newbury</td>\n",
       "    </tr>\n",
       "  </tbody>\n",
       "</table>\n",
       "</div>"
      ],
      "text/plain": [
       "  Rank Fortune 500rank                  Name           Industry   \n",
       "0    1              15             Shell plc        Oil and Gas  \\\n",
       "1    2              35                    BP        Oil and Gas   \n",
       "2    3             126                 Tesco             Retail   \n",
       "3    4             149                  HSBC            Banking   \n",
       "4    5             198                 Aviva          Insurance   \n",
       "5    6             201             Rio Tinto             Mining   \n",
       "6    7             203       Legal & General          Insurance   \n",
       "7    8             205              Unilever     Consumer goods   \n",
       "8    9             222  Lloyds Banking Group            Banking   \n",
       "9   10             247              Vodafone  Telecommunication   \n",
       "\n",
       "  Revenue(USD millions) Profits(USD millions) Assets(USD millions) Employees   \n",
       "0               272,657                20,101              404,379    82,000  \\\n",
       "1               164,195                 7,565              287,272    65,000   \n",
       "2                84,192                 2,031               66,219   231,223   \n",
       "3                77,330                13,917            2,957,939   219,697   \n",
       "4                64,240                 2,703              485,481    22,062   \n",
       "5                63,495                21,094              102,896    49,345   \n",
       "6                62,504                 2,819              789,066    10,743   \n",
       "7                62,006                 7,151               85,383   148,044   \n",
       "8                58,476                 7,954            1,200,620    57,955   \n",
       "9                52,931                 2,424              170,749    96,941   \n",
       "\n",
       "         Headquarters  \n",
       "0              London  \n",
       "1              London  \n",
       "2  Welwyn Garden City  \n",
       "3              London  \n",
       "4              London  \n",
       "5              London  \n",
       "6              London  \n",
       "7              London  \n",
       "8              London  \n",
       "9             Newbury  "
      ]
     },
     "execution_count": 10,
     "metadata": {},
     "output_type": "execute_result"
    }
   ],
   "source": [
    "# Had to start at position 1, as position 0 was empty and causing an error\n",
    "# loops through and finds all data tabled 'td' in the html code\n",
    "# it then uses strip() to clean the data and converts to text\n",
    "# we then check the length of the df and then appends the data to the df\n",
    "\n",
    "for row in column_data[1:]:\n",
    "    row_data = row.find_all('td')\n",
    "    individual_row_data = [data.text.strip() for data in row_data]\n",
    "    length = len(df)\n",
    "    df.loc[length] = individual_row_data\n",
    "\n",
    "df.head(10)"
   ]
  },
  {
   "cell_type": "code",
   "execution_count": 11,
   "id": "88f77d74",
   "metadata": {},
   "outputs": [],
   "source": [
    "# We then save this data to a csv file, i also decided to remove the indexing, as this\n",
    "# could get annoying after a while if working with alot of data.\n",
    "df.to_csv(r'C:\\Users\\Dean\\uk_companies.csv', index= False)"
   ]
  },
  {
   "cell_type": "code",
   "execution_count": null,
   "id": "92419d6d",
   "metadata": {},
   "outputs": [],
   "source": []
  }
 ],
 "metadata": {
  "kernelspec": {
   "display_name": "Python 3 (ipykernel)",
   "language": "python",
   "name": "python3"
  },
  "language_info": {
   "codemirror_mode": {
    "name": "ipython",
    "version": 3
   },
   "file_extension": ".py",
   "mimetype": "text/x-python",
   "name": "python",
   "nbconvert_exporter": "python",
   "pygments_lexer": "ipython3",
   "version": "3.11.4"
  }
 },
 "nbformat": 4,
 "nbformat_minor": 5
}
