{
 "cells": [
  {
   "cell_type": "markdown",
   "id": "199c76c5",
   "metadata": {},
   "source": [
    "# Scraping Data"
   ]
  },
  {
   "cell_type": "code",
   "execution_count": 1,
   "id": "73cf07bb",
   "metadata": {},
   "outputs": [],
   "source": [
    "from bs4 import BeautifulSoup\n",
    "import requests\n",
    "import pandas as pd"
   ]
  },
  {
   "cell_type": "code",
   "execution_count": 2,
   "id": "5bfd3295",
   "metadata": {},
   "outputs": [],
   "source": [
    "url = 'https://en.wikipedia.org/wiki/List_of_largest_companies_in_the_United_Kingdom'\n",
    "\n",
    "page = requests.get(url)\n",
    "\n",
    "soup = BeautifulSoup(page.text, 'html')"
   ]
  },
  {
   "cell_type": "code",
   "execution_count": 3,
   "id": "245df3ba",
   "metadata": {},
   "outputs": [],
   "source": [
    "#print(soup)"
   ]
  },
  {
   "cell_type": "code",
   "execution_count": 4,
   "id": "85d5fcf4",
   "metadata": {},
   "outputs": [],
   "source": [
    "# After inspecting element on the wikipedia page, i found this class which contains the table we\n",
    "# are working with\n",
    "table = soup.find('table', class_=\"wikitable sortable\")\n",
    "#print(table)"
   ]
  },
  {
   "cell_type": "code",
   "execution_count": 5,
   "id": "aa6c51d8",
   "metadata": {},
   "outputs": [],
   "source": [
    "# we have found, by looking above what each title starts with, which is a 'th'\n",
    "titles = table.find_all('th')"
   ]
  },
  {
   "cell_type": "code",
   "execution_count": 6,
   "id": "8b9f37aa",
   "metadata": {},
   "outputs": [],
   "source": [
    "# list comprehension, which will pull out the titles, .strip() removed all \\n from the text and cleaned it a bit\n",
    "table_titles = [title.text.strip() for title in titles]"
   ]
  },
  {
   "cell_type": "code",
   "execution_count": 7,
   "id": "f2b5cefd",
   "metadata": {},
   "outputs": [
    {
     "name": "stdout",
     "output_type": "stream",
     "text": [
      "['Rank', 'Fortune 500rank', 'Name', 'Industry', 'Revenue(USD millions)', 'Profits(USD millions)', 'Assets(USD millions)', 'Employees', 'Headquarters']\n"
     ]
    }
   ],
   "source": [
    "print(table_titles)"
   ]
  },
  {
   "cell_type": "code",
   "execution_count": 8,
   "id": "54be6efb",
   "metadata": {},
   "outputs": [
    {
     "data": {
      "text/html": [
       "<div>\n",
       "<style scoped>\n",
       "    .dataframe tbody tr th:only-of-type {\n",
       "        vertical-align: middle;\n",
       "    }\n",
       "\n",
       "    .dataframe tbody tr th {\n",
       "        vertical-align: top;\n",
       "    }\n",
       "\n",
       "    .dataframe thead th {\n",
       "        text-align: right;\n",
       "    }\n",
       "</style>\n",
       "<table border=\"1\" class=\"dataframe\">\n",
       "  <thead>\n",
       "    <tr style=\"text-align: right;\">\n",
       "      <th></th>\n",
       "      <th>Rank</th>\n",
       "      <th>Fortune 500rank</th>\n",
       "      <th>Name</th>\n",
       "      <th>Industry</th>\n",
       "      <th>Revenue(USD millions)</th>\n",
       "      <th>Profits(USD millions)</th>\n",
       "      <th>Assets(USD millions)</th>\n",
       "      <th>Employees</th>\n",
       "      <th>Headquarters</th>\n",
       "    </tr>\n",
       "  </thead>\n",
       "  <tbody>\n",
       "  </tbody>\n",
       "</table>\n",
       "</div>"
      ],
      "text/plain": [
       "Empty DataFrame\n",
       "Columns: [Rank, Fortune 500rank, Name, Industry, Revenue(USD millions), Profits(USD millions), Assets(USD millions), Employees, Headquarters]\n",
       "Index: []"
      ]
     },
     "execution_count": 8,
     "metadata": {},
     "output_type": "execute_result"
    }
   ],
   "source": [
    "# Here we create our dataframe with the titles we have just pulled out from wikipedia\n",
    "df = pd.DataFrame(columns = table_titles)\n",
    "df"
   ]
  },
  {
   "cell_type": "code",
   "execution_count": 9,
   "id": "46fa1aa7",
   "metadata": {},
   "outputs": [],
   "source": [
    "column_data = table.find_all('tr')"
   ]
  },
  {
   "cell_type": "code",
   "execution_count": 10,
   "id": "c3a3a72f",
   "metadata": {},
   "outputs": [],
   "source": [
    "# Had to start at position 1, as position 0 was empty and causing an error\n",
    "# loops through and finds all data tabled 'td' in the html code\n",
    "# it then uses strip() to clean the data and converts to text\n",
    "# we then check the length of the df and then appends the data to the df\n",
    "\n",
    "for row in column_data[1:]:\n",
    "    row_data = row.find_all('td')\n",
    "    individual_row_data = [data.text.strip() for data in row_data]\n",
    "    length = len(df)\n",
    "    df.loc[length] = individual_row_data"
   ]
  },
  {
   "cell_type": "code",
   "execution_count": 11,
   "id": "bb1e5780",
   "metadata": {},
   "outputs": [],
   "source": [
    "df.to_csv(r'C:\\Users\\Dean\\uk_companies.csv', index= False)"
   ]
  },
  {
   "cell_type": "code",
   "execution_count": null,
   "id": "3a10f406",
   "metadata": {},
   "outputs": [],
   "source": []
  }
 ],
 "metadata": {
  "kernelspec": {
   "display_name": "Python 3 (ipykernel)",
   "language": "python",
   "name": "python3"
  },
  "language_info": {
   "codemirror_mode": {
    "name": "ipython",
    "version": 3
   },
   "file_extension": ".py",
   "mimetype": "text/x-python",
   "name": "python",
   "nbconvert_exporter": "python",
   "pygments_lexer": "ipython3",
   "version": "3.11.4"
  }
 },
 "nbformat": 4,
 "nbformat_minor": 5
}
